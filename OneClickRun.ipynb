{
 "cells": [
  {
   "cell_type": "code",
   "execution_count": null,
   "id": "b1a52fec-9901-47ad-838f-4782070902d2",
   "metadata": {},
   "outputs": [],
   "source": [
    "# Install the dependencies\n",
    "import random\n",
    "import configparser\n",
    "%pip install parfive\n",
    "force_reinstall= False\n",
    "# Set to true only if you want to install the dependencies again.\n",
    "#--------------------\n",
    "with open('/dev/null', 'w') as devnull:import requests, os, time, importlib;os.chdir('/workspace');time.sleep(2);import mainrunpodA1111;importlib.reload(mainrunpodA1111);from mainrunpodA1111 import *;Deps(force_reinstall)\n",
    "\n",
    "config = configparser.ConfigParser()\n",
    "# config.read('config.ini')\n",
    "config.read('config.ini')\n",
    "write_token = config['hugging face']['write_token']\n",
    "\n",
    "#Clone from Huggingface\n",
    "# Restore your backed-up SD folder by entering your huggingface token, leave it empty to start fresh or continue with the existing sd folder (if any).\n",
    "repo(write_token)\n",
    "\n",
    "# Choices are \"SDXL\", \"v1.5\", \"v2-512\", \"v2-768\"\n",
    "Original_Model_Version = \"v1.5\"; Path_to_MODEL = \"\"; MODEL_LINK = \"\"\n",
    "model=mdl(Original_Model_Version, Path_to_MODEL, MODEL_LINK)\n",
    "\n",
    "# Choices are : none; all; 1: Canny; 2: Depth; 3: Lineart; 4: MLSD; 5: Normal; 6: OpenPose; 7: Scribble; 8: Seg; 9: ip2p; 10:Shuffle; 11: Inpaint; 12: Softedge; 13: Lineart_Anime; 14: Tile; 15: T2iadapter_Models\n",
    "# Choices are : none; all; 1: Canny; 2: Depth; 3: Sketch; 4: OpenPose; 5: Recolor\n",
    "ControlNet_v1_Model = \"all\"; ControlNet_XL_Model = \"none\"; CNet(ControlNet_v1_Model, ControlNet_XL_Model)\n",
    "\n",
    "User = \"\"\n",
    "Password= \"\"\n",
    "\n",
    "# Add credentials to your Gradio interface (optional).\n",
    "#-----------------\n",
    "configf=sd(User, Password, model) if 'model' in locals() else sd(User, Password, \"\");import gradio; gradio.close_all()\n",
    "!python /workspace/sd/stable-diffusion-webui/webui.py $configf\n"
   ]
  },
  {
   "cell_type": "markdown",
   "id": "5d2916d0",
   "metadata": {},
   "source": [
    "## Restart if needed below"
   ]
  },
  {
   "cell_type": "code",
   "execution_count": null,
   "metadata": {},
   "outputs": [],
   "source": [
    "#START SDUI\n",
    "User = \"\"\n",
    "Password= \"\"\n",
    "\n",
    "# Add credentials to your Gradio interface (optional).\n",
    "#-----------------\n",
    "configf=sd(User, Password, model) if 'model' in locals() else sd(User, Password, \"\");import gradio;gradio.close_all()\n",
    "!python /workspace/sd/stable-diffusion-webui/webui.py $configf"
   ]
  },
  {
   "cell_type": "code",
   "execution_count": null,
   "id": "d8a3859b-f06a-442f-b610-d0e7b6935ab6",
   "metadata": {},
   "outputs": [],
   "source": [
    "# This will backup your sd folder -without the models- to your huggingface account, so you can restore it whenever you start an instance.\n",
    "# Must be a WRITE token, get yours here : https://huggingface.co/settings/tokens\n",
    "save(write_token)\n",
    "#--------------------"
   ]
  }
 ],
 "metadata": {
  "kernelspec": {
   "display_name": "Python 3 (ipykernel)",
   "language": "python",
   "name": "python3"
  },
  "language_info": {
   "codemirror_mode": {
    "name": "ipython",
    "version": 3
   },
   "file_extension": ".py",
   "mimetype": "text/x-python",
   "name": "python",
   "nbconvert_exporter": "python",
   "pygments_lexer": "ipython3",
   "version": "3.9.12"
  }
 },
 "nbformat": 4,
 "nbformat_minor": 5
}
